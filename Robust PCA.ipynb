{
 "metadata": {
  "name": "",
  "signature": "sha256:d0a877e1f213ce3f6411d0ab7625758e3a2390b81ecd381bb7a57e3d77175598"
 },
 "nbformat": 3,
 "nbformat_minor": 0,
 "worksheets": [
  {
   "cells": [
    {
     "cell_type": "markdown",
     "metadata": {},
     "source": [
      "# The start: Imaging and audio data\n",
      "\n",
      "A common approach to the problem of finding themes in high dimensional, vectorized data is to compute the principal \n",
      "components (PCA) or SVD. This is applied everywhere from [Latent Semantic ](http://www.cse.msu.edu/~cse960/Papers/LSI/LSI.pdf)\n",
      "Indexing of text to identifying [eigenfaces](http://en.wikipedia.org/wiki/Eigenface). When we have a collection of high \n",
      "dimensional vectors and we want to understand that data set\u2019s structure, we will often throw those vectors into a matrix where \n",
      "each row is an observation and each column is a type of measurements. An image can be transformed into a vector by \"unwinding\" \n",
      "the grid of pixels that represent it into a line. Then, a video can be represented by the vector form of its frames as rows of \n",
      "a matrix. We can also take a scalar time series or measurements of a stochastic process and form a matrix representing our \n",
      "series through creating vectors from sliding windows over that time series.\n",
      "\n",
      "The underlying idea of low rank representations is that we are using is that singular vectors corresponding to large singular\n",
      "values represent common themes (really linear subspaces) in the collection of vectors. Most of the real, consistent variance \n",
      "in the data set is contained in the subspace we identify.  When the rows are observations over time, the low rank representation of that matrix helps us identify what is consistent over time in our time series.\n",
      "\n",
      "# What is Principal Component Pursuit?\n",
      "\n",
      "A problem with SVD and thus PCA is that singular vectors are very sensitive to outliers. This means that if a few components in our matrix are corrupted with noise, we may end up with large errors in our estimates of singular values and vectors. Real data, particularly audio and imaging data, is full of this type of noise-- flecks on an image or shifting shadows. Principal component pursuit seeks to separate out the low rank component of an observation matrix from the sparse component. The motivation for this is that the low rank component contains information about what is consistent in our rows, and the assumption is the the sparse component is noise.\n",
      "\n",
      "Principal component pursuit is essentially a method for accurately estimating the singular values and vectors of a matrix in the presence of sparse, extreme noise. Specifically, finding the decomposition were $M = L + S + E$, where M is the original matrix, L is a low rank matrix, and S is sparse, and E is non-sparse, non-extreme error. Note that low rank approximations using PCA/SVD are already optimized to handle small, iid noise in the matrix components. The problem can be formulated as an optimization problem, where the objective function is: $min (||L||_{*} + \\lambda ||S||_{1})$. This can then be solved by many different convex optimization methods. Not sure how Surus does it exactly. The reason this results in many SVDs is because convex optimization methods tend to be iterative.\n"
     ]
    },
    {
     "cell_type": "code",
     "collapsed": false,
     "input": [
      "import numpy as np"
     ],
     "language": "python",
     "metadata": {},
     "outputs": [],
     "prompt_number": 177
    },
    {
     "cell_type": "markdown",
     "metadata": {},
     "source": [
      "We are going to examine how noise affects SVD. To do this, we will first construct the left and right singular vectors we expect for our matrix. Our matrix will decompose in to $M = U*\\Lambda*V + G + S$. Let's call the term $U*\\Lambda*V= L$, because it is our low rank matrix. We will then add in gaussian noise and sparse noise. With differing level of noise, we can see how corrupted our SVD estimates are."
     ]
    },
    {
     "cell_type": "code",
     "collapsed": false,
     "input": [
      "n_sv=2\n",
      "sv = [5, 4]\n",
      "left_dim=10\n",
      "right_dim=7\n",
      "\n",
      "constructed_U = make_normalized_random(left_dim, n_sv, axis=0)\n",
      "constructed_V = make_normalized_random(n_sv, right_dim, axis=1)\n",
      "constructed_Lambda = np.diag(sv)\n",
      "constructed_L = np.dot(np.dot(constructed_U, constructed_Lambda), constructed_V)"
     ],
     "language": "python",
     "metadata": {},
     "outputs": [],
     "prompt_number": 178
    },
    {
     "cell_type": "code",
     "collapsed": false,
     "input": [
      "\"\"\"\"axis=0 returns a randomly intialized matrix with normalized columns.\n",
      "    axis=1 returns a randomly initialized matrix with normalized rows.\"\"\"\n",
      "def make_normalized_random(n_rows, n_cols , axis=0):\n",
      "    random_matrix = np.random.rand(n_rows, n_cols)\n",
      "    axis_norm = np.linalg.norm(random_matrix, axis=axis)\n",
      "    if axis == 0:\n",
      "        return random_matrix/axis_norm\n",
      "    elif axis == 1:\n",
      "        return random_matrix * (1/axis_norm[:, np.newaxis])\n",
      "\n",
      "np.linalg.norm(make_normalized_random(2, 3, axis=0), axis=0)"
     ],
     "language": "python",
     "metadata": {},
     "outputs": [
      {
       "metadata": {},
       "output_type": "pyout",
       "prompt_number": 179,
       "text": [
        "array([ 1.,  1.,  1.])"
       ]
      }
     ],
     "prompt_number": 179
    },
    {
     "cell_type": "code",
     "collapsed": false,
     "input": [
      "smooth_noise_threshold= 0.001\n",
      "sparse_noise_threshold = 0.0001\n",
      "n_indices_affected = 8\n",
      "\n",
      "def make_spare_noise(left_dim, right_dim, n_indices):\n",
      "    S = np.zeros([left_dim, right_dim])\n",
      "    row_idx = np.random.choice(range(left_dim), n_indices)\n",
      "    col_idx = np.random.choice(range(right_dim), n_indices)\n",
      "    value = np.random.randn(n_indices)\n",
      "    S[row_idx, col_idx] = value\n",
      "    return np.matrix(S)\n",
      "\n",
      "sparse_noise = sparse_noise_threshold * make_spare_noise(left_dim, right_dim, n_indices_affected)\n",
      "gaussian_noise = noise * np.random.randn(left_dim, right_dim)\n",
      "\n",
      "\n",
      "M_no_sparse = constructed_L + gaussian_noise\n",
      "M = constructed_L + gaussian_noise + sparse_noise\n",
      "\n",
      "(U_no_sparse, sing_vals_no_sparse, V_no_sparse) = np.linalg.svd(M_no_sparse)\n",
      "(U, sing_val, V) = np.linalg.svd(M)"
     ],
     "language": "python",
     "metadata": {},
     "outputs": [],
     "prompt_number": 180
    },
    {
     "cell_type": "code",
     "collapsed": false,
     "input": [],
     "language": "python",
     "metadata": {},
     "outputs": [],
     "prompt_number": 180
    },
    {
     "cell_type": "code",
     "collapsed": false,
     "input": [
      "print U[:2]\n",
      "print U_no_sparse[:2]\n",
      "print left_sv"
     ],
     "language": "python",
     "metadata": {},
     "outputs": [
      {
       "output_type": "stream",
       "stream": "stdout",
       "text": [
        "[[ -3.84671721e-01  -2.83199201e-02  -1.28863093e-01  -2.02982985e-02\n",
        "   -7.54949526e-01  -1.04339799e-01  -2.59320981e-01   3.48127740e-01\n",
        "   -8.08546838e-02  -2.41649699e-01]\n",
        " [ -4.26813840e-01  -1.54997009e-02   5.79015695e-01   7.20885278e-02\n",
        "    6.66686071e-04  -3.95946347e-01  -2.56645506e-03  -1.54745116e-01\n",
        "   -3.36746005e-01   4.27795875e-01]]\n",
        "[[-0.38467134 -0.02832142 -0.12841697 -0.01714497 -0.74409451 -0.15292547\n",
        "  -0.29513937  0.30124237 -0.07325438 -0.27231918]\n",
        " [-0.4268132  -0.0155031   0.57806404  0.0773648   0.02178774 -0.38929918\n",
        "  -0.01392454 -0.13670119 -0.33566679  0.44030096]]\n",
        "[[ 0.32585706  0.50121397  0.28879755  0.41104858  0.46177869  0.7708442\n",
        "   0.72624818  0.15352305  0.37379188  0.37063718]\n",
        " [ 0.6885108   0.61782417  0.47372628  0.67367803  0.27215199  0.91026328\n",
        "   0.247795    0.355946    0.48766258  0.19230313]]\n"
       ]
      }
     ],
     "prompt_number": 181
    },
    {
     "cell_type": "code",
     "collapsed": false,
     "input": [
      "import matplotlib.pyplot as plt\n",
      "%matplotlib inline\n",
      "plt.scatter(range(left_dim), U_no_sparse[:1], color='b')\n",
      "plt.scatter(range(left_dim), left_sv[:1], color='r')"
     ],
     "language": "python",
     "metadata": {},
     "outputs": [
      {
       "metadata": {},
       "output_type": "pyout",
       "prompt_number": 182,
       "text": [
        "<matplotlib.collections.PathCollection at 0x111d59d10>"
       ]
      },
      {
       "metadata": {},
       "output_type": "display_data",
       "png": "[encoded data removed]",
       "text": [
        "<matplotlib.figure.Figure at 0x10ed8bfd0>"
       ]
      }
     ],
     "prompt_number": 182
    },
    {
     "cell_type": "code",
     "collapsed": false,
     "input": [],
     "language": "python",
     "metadata": {},
     "outputs": [],
     "prompt_number": 182
    },
    {
     "cell_type": "code",
     "collapsed": false,
     "input": [],
     "language": "python",
     "metadata": {},
     "outputs": [],
     "prompt_number": 182
    }
   ],
   "metadata": {}
  }
 ]
}