{
 "metadata": {
  "name": "",
  "signature": "sha256:a946144cb9fd4b59772c9b2208c3645104384709b9ea6f57dc42379f3a0b9b2a"
 },
 "nbformat": 3,
 "nbformat_minor": 0,
 "worksheets": [
  {
   "cells": [
    {
     "cell_type": "markdown",
     "metadata": {},
     "source": [
      "# The start: Imaging and audio data\n",
      "\n",
      "A common approach to the problem of finding themes in high dimensional, vectorized data is to compute the principal \n",
      "components (PCA) or SVD. This is applied everywhere from [Latent Semantic ](http://www.cse.msu.edu/~cse960/Papers/LSI/LSI.pdf)\n",
      "Indexing of text to identifying [eigenfaces](http://en.wikipedia.org/wiki/Eigenface). When we have a collection of high \n",
      "dimensional vectors and we want to understand that data set\u2019s structure, we will often throw those vectors into a matrix where \n",
      "each row is an observation and each column is a type of measurements. An image can be transformed into a vector by \"unwinding\" \n",
      "the grid of pixels that represent it into a line. Then, a video can be represented by the vector form of its frames as rows of \n",
      "a matrix. We can also take a scalar time series or measurements of a stochastic process and form a matrix representing our \n",
      "series through creating vectors from sliding windows over that time series.\n",
      "\n",
      "The underlying idea of low rank representations is that we are using is that singular vectors corresponding to large singular\n",
      "values represent common themes (really linear subspaces) in the collection of vectors. Most of the real, consistent variance \n",
      "in the data set is contained in the subspace we identify.  When the rows are observations over time, the low rank representation of that matrix helps us identify what is consistent over time in our time series.\n",
      "\n",
      "# What is Principal Component Pursuit?\n",
      "\n",
      "A problem with SVD and thus PCA is that singular vectors are very sensitive to outliers. This means that if a few components in our matrix are corrupted with noise, we may end up with large errors in our estimates of singular values and vectors. Real data, particularly audio and imaging data, is full of this type of noise-- flecks on an image or shifting shadows. Principal component pursuit seeks to separate out the low rank component of an observation matrix from the sparse component. The motivation for this is that the low rank component contains information about what is consistent in our rows, and the assumption is the the sparse component is noise.\n",
      "\n",
      "Principal component pursuit is essentially a method for accurately estimating the singular values and vectors of a matrix in the presence of sparse, extreme noise. Specifically, finding the decomposition were $M = L + S + E$, where M is the original matrix, L is a low rank matrix, and S is sparse, and E is non-sparse, non-extreme error. Note that low rank approximations using PCA/SVD are already optimized to handle small, iid noise in the matrix components. The problem can be formulated as an optimization problem, where the objective function is: $min (||L||_{*} + \\lambda ||S||_{1})$. This can then be solved by many different convex optimization methods. Not sure how Surus does it exactly. The reason this results in many SVDs is because convex optimization methods tend to be iterative.\n"
     ]
    },
    {
     "cell_type": "code",
     "collapsed": false,
     "input": [
      "import numpy as np"
     ],
     "language": "python",
     "metadata": {},
     "outputs": [],
     "prompt_number": 98
    },
    {
     "cell_type": "markdown",
     "metadata": {},
     "source": [
      "We are going to examine how noise affects SVD. To do this, we will first construct the left and right singular vectors we expect for our matrix. Our matrix will decompose in to $M = U*\\Lambda*V + G + S$. Let's call the term $U*\\Lambda*V= L$, because it is our low rank matrix. We will then add in gaussian noise and sparse noise. With differing level of noise, we can see how corrupted our SVD estimates are."
     ]
    },
    {
     "cell_type": "code",
     "collapsed": false,
     "input": [
      "n_sv=2\n",
      "sv = [5, 4]\n",
      "left_dim=10\n",
      "right_dim=7\n",
      "\n",
      "\"\"\"\"axis=0 returns a randomly intialized matrix with orthonormalized columns.\n",
      "    axis=1 returns a randomly initialized matrix with orthonormalized rows.\"\"\"\n",
      "def orthonormalized_random(n_rows, n_cols, axis=0):\n",
      "    max_dim = np.max([n_rows, n_cols])\n",
      "    random_matrix = np.random.rand(max_dim, max_dim)\n",
      "    ortho_random_matrix, r = np.linalg.qr(random_matrix)\n",
      "    if axis == 0:\n",
      "        ortho_random_matrix = ortho_random_matrix[:, :n_cols]\n",
      "    elif axis ==1:\n",
      "        ortho_random_matrix = ortho_random_matrix[:n_rows, :]\n",
      "    return ortho_random_matrix\n",
      "\n",
      "U_orig = orthonormalized_random(left_dim, n_sv, axis=0)\n",
      "V_orig = orthonormalized_random(n_sv, right_dim, axis=1)\n",
      "Lambda_orig = np.diag(sv)\n",
      "L_orig = np.dot(np.dot(U_orig, Lambda_orig), V_orig)"
     ],
     "language": "python",
     "metadata": {},
     "outputs": [],
     "prompt_number": 99
    },
    {
     "cell_type": "markdown",
     "metadata": {},
     "source": [
      "### Create matrices of just noise.\n",
      "Set noise threshold and define a funciton for making sparse noise where only a few indicies are affected."
     ]
    },
    {
     "cell_type": "code",
     "collapsed": false,
     "input": [
      "smooth_noise_threshold= 0.0\n",
      "sparse_noise_threshold = 0.0\n",
      "n_indices_affected = 8\n",
      "\n",
      "\"\"\"\n",
      "Chooses n_indices uniformly from rows and columns to add a normally distributed amount of noise to.\n",
      "\"\"\"\n",
      "def sparse_noise(left_dim, right_dim, n_indices):\n",
      "    S = np.zeros([left_dim, right_dim])\n",
      "    row_idx = np.random.choice(range(left_dim), n_indices)\n",
      "    col_idx = np.random.choice(range(right_dim), n_indices)\n",
      "    value = np.random.randn(n_indices)\n",
      "    S[row_idx, col_idx] = value\n",
      "    return np.matrix(S)"
     ],
     "language": "python",
     "metadata": {},
     "outputs": [],
     "prompt_number": 100
    },
    {
     "cell_type": "code",
     "collapsed": false,
     "input": [
      "sparse_noise = sparse_noise_threshold * sparse_noise(left_dim, right_dim, n_indices_affected)\n",
      "gaussian_noise = smooth_noise_threshold * np.random.randn(left_dim, right_dim)"
     ],
     "language": "python",
     "metadata": {},
     "outputs": [],
     "prompt_number": 101
    },
    {
     "cell_type": "heading",
     "level": 3,
     "metadata": {},
     "source": [
      "Combine base and noise matrices."
     ]
    },
    {
     "cell_type": "code",
     "collapsed": false,
     "input": [
      "M_no_sparse = L_orig + gaussian_noise\n",
      "M = L_actual + gaussian_noise + sparse_noise"
     ],
     "language": "python",
     "metadata": {},
     "outputs": [],
     "prompt_number": 102
    },
    {
     "cell_type": "markdown",
     "metadata": {},
     "source": [
      "###Create SVD decomposition with matrices with noise."
     ]
    },
    {
     "cell_type": "code",
     "collapsed": false,
     "input": [
      "(U_rez_no_noise, sing_vals_rez_no_noise, V_rez_no_noise) = np.linalg.svd(L_orig)\n",
      "(U_rez_no_sparse, sing_vals_rez_no_sparse, V_rez_no_sparse) = np.linalg.svd(M_no_sparse)\n",
      "(U_rez_all_noise, sing_vals_rez_all_noise, V_rez_all_noise) = np.linalg.svd(M)"
     ],
     "language": "python",
     "metadata": {},
     "outputs": [],
     "prompt_number": 112
    },
    {
     "cell_type": "markdown",
     "metadata": {},
     "source": [
      "Compute RMSE error in signular vectors, compute relative error for each singular value."
     ]
    },
    {
     "cell_type": "code",
     "collapsed": false,
     "input": [
      "\"Returns the RMS error for a matrix of vectors to be compared along an axis.\"\n",
      "def rmse(expected, actual, axis):\n",
      "    return np.linalg.norm(expected - actual, axis=axis)\n",
      "\n",
      "rmse_no_noise_U = rmse(U_orig, U_rez_no_noise[:, :n_sv], axis=0)\n",
      "rmse_no_sparse_U = rmse(U_orig, U_rez_no_sparse[:, :n_sv], axis=0)\n",
      "rmse_all_sparse_U = rmse(U_orig, U_rez_all_noise[:, :n_sv], axis=0)\n",
      "\n",
      "rmse_no_noise_V = rmse(V_orig, V_rez_no_noise[:n_sv, :], axis=1)\n",
      "rmse_no_sparse_V = rmse(V_orig, V_rez_no_sparse[:n_sv, :], axis=1)\n",
      "rmse_all_sparse_V = rmse(V_orig, V_rez_all_noise[:n_sv, :], axis=1)\n",
      "                         \n",
      "print rmse_no_noise_U\n",
      "print rmse_no_noise_V\n",
      "print rmse_no_sparse_V\n",
      "print rmse_all_sparse_U\n",
      "print rmse_all_sparse_V"
     ],
     "language": "python",
     "metadata": {},
     "outputs": [
      {
       "output_type": "stream",
       "stream": "stdout",
       "text": [
        "[  4.40278149e-16   6.14552571e-16]\n",
        "[  3.77516643e-16   2.18547621e-16]\n",
        "[  3.77516643e-16   2.18547621e-16]\n",
        "[ 0.85173067  1.75841976]\n",
        "[ 1.60199389  1.18343125]\n"
       ]
      }
     ],
     "prompt_number": 123
    },
    {
     "cell_type": "markdown",
     "metadata": {},
     "source": [
      "###Plot Error"
     ]
    },
    {
     "cell_type": "code",
     "collapsed": false,
     "input": [
      "import matplotlib.pyplot as plt\n",
      "%matplotlib inline\n",
      "plt.scatter(range(left_dim), U[:1], color='b')\n",
      "plt.scatter(range(left_dim), constructed_U.transpose()[:1], color='r')"
     ],
     "language": "python",
     "metadata": {},
     "outputs": []
    },
    {
     "cell_type": "code",
     "collapsed": false,
     "input": [],
     "language": "python",
     "metadata": {},
     "outputs": []
    },
    {
     "cell_type": "heading",
     "level": 2,
     "metadata": {},
     "source": [
      "TimeSeries and SVD"
     ]
    },
    {
     "cell_type": "markdown",
     "metadata": {},
     "source": [
      "We will first create a time series of the x component of an object traveling in a circular path. The trajectory of the object in it's state space is $x=sin(t)$, $y=cos(t)$. We will first create an evenly space vector of time points, and thyen compute the object's x position at each time."
     ]
    },
    {
     "cell_type": "code",
     "collapsed": false,
     "input": [
      "time = np.linspace(0, 10, 1000)\n",
      "simple_wave = np.cos(time)\n",
      "def to_matrix(timeseries):\n",
      "    return np.reshape(timeseries, (100,10))\n",
      "simple_wave_matrix = to_matrix(simple_wave)"
     ],
     "language": "python",
     "metadata": {},
     "outputs": [],
     "prompt_number": 170
    },
    {
     "cell_type": "markdown",
     "metadata": {},
     "source": [
      "We will now take non overlaping, 10 sample long intervals from our time series and create a collection of vectors to represent our time series. "
     ]
    },
    {
     "cell_type": "code",
     "collapsed": false,
     "input": [
      "from sklearn.decomposition import PCA\n",
      "pca = PCA(n_components=2)\n",
      "low_d_simple_wave = pca.fit_transform(simple_wave_matrix)"
     ],
     "language": "python",
     "metadata": {},
     "outputs": [],
     "prompt_number": 168
    },
    {
     "cell_type": "code",
     "collapsed": false,
     "input": [
      "plt.scatter(low_d_simple_wave[:, 0], low_d_simple_wave[:, 1])"
     ],
     "language": "python",
     "metadata": {},
     "outputs": [
      {
       "metadata": {},
       "output_type": "pyout",
       "prompt_number": 169,
       "text": [
        "<matplotlib.collections.PathCollection at 0x7fa92f7bd5d0>"
       ]
      },
      {
       "metadata": {},
       "output_type": "display_data",
       "png": "[encoded data removed]",
       "text": [
        "<matplotlib.figure.Figure at 0x7fa92f81c410>"
       ]
      }
     ],
     "prompt_number": 169
    },
    {
     "cell_type": "code",
     "collapsed": false,
     "input": [
      "np.sin(0)"
     ],
     "language": "python",
     "metadata": {},
     "outputs": [
      {
       "metadata": {},
       "output_type": "pyout",
       "prompt_number": 163,
       "text": [
        "0.0"
       ]
      }
     ],
     "prompt_number": 163
    },
    {
     "cell_type": "code",
     "collapsed": false,
     "input": [],
     "language": "python",
     "metadata": {},
     "outputs": []
    }
   ],
   "metadata": {}
  }
 ]
}